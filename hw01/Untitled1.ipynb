{
 "cells": [
  {
   "cell_type": "markdown",
   "metadata": {},
   "source": [
    "# Итераторы\n",
    "\n",
    "Для понимания, что делает yield, необходимо понимать, что такое генераторы. Генераторам же предшествуют итераторы. Когда вы создаёте список, вы можете считывать его элементы один за другим — это называется итерацией:"
   ]
  },
  {
   "cell_type": "code",
   "execution_count": 2,
   "metadata": {
    "collapsed": false
   },
   "outputs": [
    {
     "name": "stdout",
     "output_type": "stream",
     "text": [
      "1 2 3\n"
     ]
    }
   ],
   "source": [
    "mylist = [1, 2, 3]\n",
    "for i in mylist: print i,"
   ]
  },
  {
   "cell_type": "markdown",
   "metadata": {},
   "source": [
    "Mylist является итерируемым объектом. Когда вы создаёте список, используя генераторное выражение, вы создаёте также итератор:"
   ]
  },
  {
   "cell_type": "code",
   "execution_count": 5,
   "metadata": {
    "collapsed": false
   },
   "outputs": [
    {
     "name": "stdout",
     "output_type": "stream",
     "text": [
      "0 1 4 9 16\n"
     ]
    }
   ],
   "source": [
    "mylist = [x*x for x in range(5)]\n",
    "for i in mylist: print i,"
   ]
  },
  {
   "cell_type": "markdown",
   "metadata": {},
   "source": [
    "Всё, к чему можно применить конструкцию «for… in...», является итерируемым объектом: списки, строки, файлы… Это удобно, потому что можно считывать из них значения сколько потребуется — однако все значения хранятся в памяти, а это не всегда желательно, если у вас много значений."
   ]
  },
  {
   "cell_type": "markdown",
   "metadata": {},
   "source": [
    "# Генераторы\n",
    "\n",
    "Генераторы это тоже итерируемые объекты, но прочитать их можно лишь один раз. Это связано с тем, что они не хранят значения в памяти, а генерируют их на лету:"
   ]
  },
  {
   "cell_type": "code",
   "execution_count": 6,
   "metadata": {
    "collapsed": false
   },
   "outputs": [
    {
     "name": "stdout",
     "output_type": "stream",
     "text": [
      "0 1 4\n"
     ]
    }
   ],
   "source": [
    "mygenerator = (x*x for x in range(3))\n",
    "for i in mygenerator: print i,"
   ]
  },
  {
   "cell_type": "markdown",
   "metadata": {},
   "source": [
    "Всё то же самое, разве что используются круглые скобки вместо квадратных. \n",
    "\n",
    "__НО__: нельзя применить конструкцию for i in mygenerator второй раз, так как генератор может быть использован только единожды: он вычисляет 0, потом забывает про него и вычисляет 1, завершаяя вычислением 4 — одно за другим."
   ]
  },
  {
   "cell_type": "markdown",
   "metadata": {},
   "source": [
    "# Yield\n",
    "\n",
    "Yield это ключевое слово, которое используется примерно как return — отличие в том, что функция вернёт генератор."
   ]
  },
  {
   "cell_type": "code",
   "execution_count": 12,
   "metadata": {
    "collapsed": true
   },
   "outputs": [],
   "source": [
    "def createGenerator():\n",
    "    mylist = range(6)\n",
    "    for i in mylist:\n",
    "        yield i*i"
   ]
  },
  {
   "cell_type": "code",
   "execution_count": 17,
   "metadata": {
    "collapsed": false
   },
   "outputs": [
    {
     "name": "stdout",
     "output_type": "stream",
     "text": [
      "<generator object createGenerator at 0x7f60a06b89b0>\n"
     ]
    }
   ],
   "source": [
    "mygenerator = createGenerator()\n",
    "print mygenerator"
   ]
  },
  {
   "cell_type": "code",
   "execution_count": 18,
   "metadata": {
    "collapsed": false
   },
   "outputs": [
    {
     "name": "stdout",
     "output_type": "stream",
     "text": [
      "0 1 4 9 16 25\n"
     ]
    }
   ],
   "source": [
    "for i in mygenerator: print i,"
   ]
  },
  {
   "cell_type": "markdown",
   "metadata": {},
   "source": [
    "В данном случае пример бесполезный, но это удобно, если вы знаете, что функция вернёт большой набор значений, который надо будет прочитать только один раз.\n",
    "\n",
    "Чтобы освоить yield, вы должны понимать, что когда вы вызываете функцию, код внутри тела функции не исполняется. Функция только возвращает объект-генератор — немного мудрёно :-)\n",
    "\n",
    "Ваш код будет вызываться каждый раз, когда for обращается к генератору."
   ]
  },
  {
   "cell_type": "markdown",
   "metadata": {},
   "source": [
    "### Входные данные\n",
    "У вас имеется поток данных (генератор data_stream). Поля это случайные величины - так сделано для упрощения генерации данных. Есть три поля (названы по уровню сложности задания)\n",
    "\n",
    "## Задание\n",
    "###  Мотивация:\n",
    "\n",
    "У вас есть куча временных рядов, вы хотите научиться предсказывать следующее значение по 1000 предыдущим. 1000 признаков окна это слишком много, однако вы решили заменить их 5ю: средним, дисперсией, минимумом, медианой и максимумом. Однако, все эти признаки надо подсчитать, причём хочется уметь это делать быстро (в течение часа)\n",
    "\n",
    "### Для каждого поля нужно сделать следующее:\n",
    "\n",
    "1) Пробежаться по данным окном размера 1000 (окно сдвигается на 1, то есть следующее окно пересекается с предыдущим по 999 элементам).\n",
    "\n",
    "2) Для каждого окна посчитайте среднее значение поля и его дисперсию. Делайте yield этих значений, получая генератор tuple.\n",
    "\n",
    "3) Для каждого окна найдине минимум, медиану и максимум в нём. Делайте yield этих значений, получая генератор tuple.\n",
    "\n",
    "\n",
    "Ответом, который нужно будет засабмитить в гугл форму, является среднее значение tuple по получившемуся потоку, округлённое до 2го знака.\n",
    "\n",
    "### Замечания\n",
    "\n",
    "Обратите внимания как генерируются поля. Постарайтесь понять особенность каждого поля и как это можно использовать. Желательно, чтобы для каждого поля у вас было своё решение, максимально эффективно использующее знание об этом поле.\n",
    "\n",
    "Полезные библиотеки: itertools, numpy, collections + всё что найдёте в интернете и можно поставить через pip install\n",
    "\n",
    "Медианой отсортированного массива arr считайте значение arr[len(arr) // 2]\n",
    "Если измерять время работы функций временем работы функции example, то примерное время работы такое: Одновременно среднее, дисперсия - 1.17 Одновременно минимум, максимум и медиана:easy - 0.87 medium - 2.11 nightmare - 2.85"
   ]
  },
  {
   "cell_type": "markdown",
   "metadata": {},
   "source": [
    "### Генерация"
   ]
  },
  {
   "cell_type": "code",
   "execution_count": 280,
   "metadata": {
    "collapsed": true
   },
   "outputs": [],
   "source": [
    "from collections import namedtuple\n",
    "import random\n",
    "\n",
    "Record = namedtuple('Record', 'easy medium nightmare')\n",
    "\n",
    "def data_stream():\n",
    "    random_generator = random.Random(42)\n",
    "    easy = 0\n",
    "    for _ in range(1000000):\n",
    "        easy += random_generator.randint(0, 2) \n",
    "        medium = random_generator.randint(0, 256 - 1)\n",
    "        nightmare = random_generator.randint(0, 1000000000 - 1)\n",
    "        \n",
    "        yield Record(\n",
    "            easy=easy,\n",
    "            medium=medium,\n",
    "            nightmare=nightmare)"
   ]
  },
  {
   "cell_type": "code",
   "execution_count": 281,
   "metadata": {
    "collapsed": true
   },
   "outputs": [],
   "source": [
    "def easy_stream():\n",
    "    for record in data_stream():\n",
    "        yield record.easy\n",
    "        \n",
    "def medium_stream():\n",
    "    for record in data_stream():\n",
    "        yield record.medium\n",
    "        \n",
    "def nightmare_stream():\n",
    "    for record in data_stream():\n",
    "        yield record.nightmare"
   ]
  },
  {
   "cell_type": "code",
   "execution_count": 212,
   "metadata": {
    "collapsed": false
   },
   "outputs": [
    {
     "name": "stdout",
     "output_type": "stream",
     "text": [
      "1 1 3 3 3 4 6 8 10 10 12 14 16 17 17 17 18 18 19 21 23 25 25 25 27 28 28 28 29 30 30 31 33 35 37 38 39 39 41 42 44 45 45 47 49 50 52 53 54 56 \n",
      "----------------------------------------------------------------------------------------------------\n",
      "6 188 22 55 50 56 1 87 86 216 186 96 158 180 74 25 93 68 155 41 163 215 8 54 80 234 63 149 56 23 160 16 135 2 137 28 244 128 222 155 138 0 237 78 242 17 32 67 54 51 \n",
      "----------------------------------------------------------------------------------------------------\n",
      "275029318 676699487 421921819 505355288 649884437 589265683 805819251 155479499 92745843 603726031 536228091 552040631 861706900 45824383 79791976 277973603 370180967 936654587 171138648 379455441 556949743 775999911 315453048 942909714 655438665 458851852 561368134 897822883 997537606 47116375 792079364 381619286 971078377 720721819 266825189 434765250 875852940 178651880 298444791 152839268 778626478 324156057 878721877 57925166 85653452 760602165 475282378 872433041 539296088 311716291\n"
     ]
    }
   ],
   "source": [
    "for i in easy_stream():\n",
    "    print i,\n",
    "    \n",
    "print '\\n','--'*50\n",
    "\n",
    "for i in medium_stream():\n",
    "    print i,\n",
    "    \n",
    "print '\\n','--'*50\n",
    "    \n",
    "for i in nightmare_stream():\n",
    "    print i,    "
   ]
  },
  {
   "cell_type": "code",
   "execution_count": 214,
   "metadata": {
    "collapsed": false,
    "scrolled": true
   },
   "outputs": [
    {
     "name": "stdout",
     "output_type": "stream",
     "text": [
      "1 1 3 3 3 4 6 8 10 10 12 14 16 17 17 17 18 18 19 21 23 25 25 25 27 28 28 28 29 30 30 31 33 35 37 38 39 39 41 42 44 45 45 47 49 50 52 53 54 56\n"
     ]
    }
   ],
   "source": [
    "def example(stream):\n",
    "    for value in stream:\n",
    "        yield (value, value + 10)\n",
    "        \n",
    "for i in easy_stream():\n",
    "    print i,"
   ]
  },
  {
   "cell_type": "code",
   "execution_count": 265,
   "metadata": {
    "collapsed": false
   },
   "outputs": [],
   "source": [
    "def Mean_stream(stream, k):\n",
    "    \"\"\"Yield mean of K numbers from stream\"\"\"\n",
    "    numbers = [] # элементы окна\n",
    "    sums = 0.0 # Сумма окна\n",
    "    for i in stream:\n",
    "        numbers.append(i)\n",
    "        sums += i\n",
    "        if len(numbers) > k: \n",
    "            sums -= numbers[0]\n",
    "            numbers.pop(0)\n",
    "            yield float(sums) / k"
   ]
  },
  {
   "cell_type": "code",
   "execution_count": 266,
   "metadata": {
    "collapsed": true
   },
   "outputs": [],
   "source": [
    "def Mean_of_stream(stream):\n",
    "    sums, count = 0.0, 0\n",
    "    for i in stream:\n",
    "        count += 1\n",
    "        sums += i\n",
    "    return '{:0.2f}'.format(float(sums) / count)\n",
    "        "
   ]
  },
  {
   "cell_type": "code",
   "execution_count": 282,
   "metadata": {
    "collapsed": false
   },
   "outputs": [
    {
     "name": "stdout",
     "output_type": "stream",
     "text": [
      "127.48\n",
      "CPU times: user 15.9 s, sys: 72.2 ms, total: 15.9 s\n",
      "Wall time: 15.9 s\n"
     ]
    }
   ],
   "source": [
    "%%time\n",
    "print Mean_of_stream(Mean_stream(medium_stream(), 1000))"
   ]
  },
  {
   "cell_type": "code",
   "execution_count": 243,
   "metadata": {
    "collapsed": true
   },
   "outputs": [],
   "source": [
    "const = [1 for _ in range(50)]\n",
    "const_m = Mean_stream(const, 10)\n",
    "easy = Mean_stream(easy_stream(), 10)\n",
    "med = Mean_stream(medium_stream(), 5)\n",
    "night = Mean_stream(nightmare_stream(), 10)"
   ]
  },
  {
   "cell_type": "code",
   "execution_count": 264,
   "metadata": {
    "collapsed": false,
    "scrolled": true
   },
   "outputs": [
    {
     "name": "stdout",
     "output_type": "stream",
     "text": [
      "103.64 98.64 103.72 103.76 102.68 106.84 107.44 109.36 106.00 102.84 96.52 102.44 101.24 102.92 106.16 110.68 106.96 113.72 110.64 118.68 112.84 105.52 107.88 107.88 106.72 104.00 102.68 102.72 101.20 109.52 105.52 106.20 105.64 107.48 106.32 112.08 106.44 103.84 99.28 102.52 102.60 111.16 110.36 109.40 103.60 110.92 119.44 124.08 131.80 137.40 135.88 144.48 144.56 145.04 141.88 145.44 146.20 145.40 146.68 147.04 140.88 146.28 147.52 150.40 147.64 145.08 137.88 134.84 140.00 138.80 139.44 132.44 131.64 127.40 120.52 120.96 112.64 115.76 123.76 118.72 116.92 124.36 128.60 132.92 136.44 138.44 137.84 142.44 143.36 138.64 145.48 148.20 152.16 146.64 145.04 139.60 140.72 141.44 141.28 147.36 148.60 155.80 149.76 143.56 152.12 154.24 144.72 142.36 139.36 140.36 138.48 132.96 131.48 123.60 130.32 126.88 127.84 118.28 117.56 126.28 125.60 129.88 128.72 129.48 131.12 131.92 125.76 127.92 125.68 119.32 115.40 116.04 114.36 119.08 118.64 117.84 123.16 123.92 125.92 117.52 115.20 111.44 115.40 120.88 111.56 112.36 111.84 106.56 110.52 110.00 112.12 111.16 111.60 118.68 123.08 130.56 133.08 132.88 130.68 129.80 130.96 125.76 123.28 129.44 135.64 135.96 137.44 138.36 134.52 134.92 136.32 128.92 130.28 129.08 121.20 118.84 124.32 126.64 125.88 123.08 120.84 120.44 118.36 119.12 116.16 120.32 118.76 113.72 115.28 110.08 114.56 116.28 120.96 122.32 121.96 120.32 127.84 127.96 123.48 126.52 126.72 121.84 115.52 113.04 110.56 107.60 112.88 120.48 119.28 115.08 117.36 116.64 126.16 117.00 119.00 119.92 125.16 118.28 119.00 120.32 122.24 117.84 118.92 124.04 125.56 127.92 135.84 138.28 141.40 141.12 140.96 142.88 134.92 129.24 133.24 130.68 132.20 125.04 133.64 139.20 133.60 132.28 135.56 132.28 136.08 134.36 136.80 133.88 132.52 136.28 126.72 125.52 126.68 123.12 125.84 128.44 127.20 128.84 136.84 138.56 141.12 144.84 149.44 148.16 140.80 144.64 145.12 148.44 149.52 152.08 150.40 150.56 152.68 148.32 145.76 148.40 142.32 144.56 145.48 148.84 148.24 146.88 150.04 144.28 145.32 145.32 144.36 146.60 146.92 153.08 154.84 154.76 155.32 160.80 157.24 161.60 156.68 163.16 161.48 164.92 163.32 165.56 159.32 161.84 161.28 155.80 158.16 156.28 154.12 156.64 150.92 150.04 146.80 140.84 133.88 126.24 118.92 117.80 112.28 107.88 104.32 103.76 102.32 105.32 105.72 113.16 117.96 120.68 122.36 120.96 126.44 126.88 128.52 136.24 133.60 134.00 133.60 134.32 141.28 141.52 147.60 151.84 146.68 153.00 158.88 158.64 159.20 159.40 162.80 159.40 160.04 152.04 151.40 147.88 148.16 143.88 137.48 137.12 130.00 125.40 127.60 124.52 124.64 115.64 114.76 107.88 102.20 102.48 102.12 104.80 112.04 116.80 110.16 109.72 112.84 105.84 108.04 108.00 103.40 100.48 106.60 104.84 105.72 109.16 110.96 112.92 118.16 115.76 115.88 120.44 119.80 126.04 127.80 123.88 118.36 109.56 107.20 107.80 104.08 98.48 99.44 102.00 105.52 111.08 110.92 106.16 108.16 104.64 107.92 110.92 111.04 108.32 113.48 114.32 110.72 119.00 120.56 116.56 120.24 121.16 125.08 126.16 132.68 131.96 132.88 134.84 136.44 136.08 130.40 129.88 135.56 141.24 141.64 138.44 134.68 136.64 134.36 131.80 134.96 136.56 134.96 130.04 132.68 125.52 121.48 118.40 116.28 108.84 110.44 111.36 112.44 104.40 105.32 111.80 114.48 113.20 109.96 114.32 109.64 115.36 112.36 112.88 114.60 113.80 120.36 118.00 120.36 116.88 121.32 127.92 130.84 128.80 138.16 142.48 140.56\n"
     ]
    }
   ],
   "source": [
    "for i in Mean_stream(medium_stream(), 25):\n",
    "    print i,"
   ]
  },
  {
   "cell_type": "code",
   "execution_count": 197,
   "metadata": {
    "collapsed": true
   },
   "outputs": [],
   "source": [
    "%matplotlib inline"
   ]
  },
  {
   "cell_type": "code",
   "execution_count": 198,
   "metadata": {
    "collapsed": true
   },
   "outputs": [],
   "source": [
    "import matplotlib.pyplot as plt"
   ]
  },
  {
   "cell_type": "code",
   "execution_count": 263,
   "metadata": {
    "collapsed": false
   },
   "outputs": [
    {
     "data": {
      "text/plain": [
       "<matplotlib.collections.PathCollection at 0x7f6079b31650>"
      ]
     },
     "execution_count": 263,
     "metadata": {},
     "output_type": "execute_result"
    },
    {
     "data": {
      "image/png": "[encoded data removed]",
      "text/plain": [
       "<matplotlib.figure.Figure at 0x7f6079babc90>"
      ]
     },
     "metadata": {},
     "output_type": "display_data"
    }
   ],
   "source": []
  },
  {
   "cell_type": "markdown",
   "metadata": {},
   "source": [
    "### Подсчёт среднего значения tuple по потоку"
   ]
  },
  {
   "cell_type": "code",
   "execution_count": 21,
   "metadata": {
    "collapsed": true
   },
   "outputs": [],
   "source": [
    "import numpy as np\n",
    "\n",
    "def get_tuple_stream_mean(stream, number_of_values):\n",
    "    result = np.zeros(number_of_values, dtype='object')\n",
    "    count = 0. \n",
    "    for streamed_tuple in stream:\n",
    "        result += streamed_tuple\n",
    "        count += 1\n",
    "    return ['{:0.2f}'.format(x) for x in result / count]"
   ]
  },
  {
   "cell_type": "code",
   "execution_count": 22,
   "metadata": {
    "collapsed": false,
    "scrolled": true
   },
   "outputs": [
    {
     "ename": "KeyboardInterrupt",
     "evalue": "",
     "output_type": "error",
     "traceback": [
      "\u001b[0;31m---------------------------------------------------------------------------\u001b[0m",
      "\u001b[0;31mKeyboardInterrupt\u001b[0m                         Traceback (most recent call last)",
      "\u001b[0;32m<ipython-input-22-643094cb011e>\u001b[0m in \u001b[0;36m<module>\u001b[0;34m()\u001b[0m\n\u001b[0;32m----> 1\u001b[0;31m \u001b[0mget_ipython\u001b[0m\u001b[0;34m(\u001b[0m\u001b[0;34m)\u001b[0m\u001b[0;34m.\u001b[0m\u001b[0mrun_cell_magic\u001b[0m\u001b[0;34m(\u001b[0m\u001b[0;34mu'time'\u001b[0m\u001b[0;34m,\u001b[0m \u001b[0;34mu''\u001b[0m\u001b[0;34m,\u001b[0m \u001b[0;34mu'def example(stream):\\n    for value in stream:\\n        yield (value, value + 10)\\nprint(get_tuple_stream_mean(example(easy_stream()), 2))'\u001b[0m\u001b[0;34m)\u001b[0m\u001b[0;34m\u001b[0m\u001b[0m\n\u001b[0m",
      "\u001b[0;32m/home/stas/anaconda2/lib/python2.7/site-packages/IPython/core/interactiveshell.pyc\u001b[0m in \u001b[0;36mrun_cell_magic\u001b[0;34m(self, magic_name, line, cell)\u001b[0m\n\u001b[1;32m   2113\u001b[0m             \u001b[0mmagic_arg_s\u001b[0m \u001b[0;34m=\u001b[0m \u001b[0mself\u001b[0m\u001b[0;34m.\u001b[0m\u001b[0mvar_expand\u001b[0m\u001b[0;34m(\u001b[0m\u001b[0mline\u001b[0m\u001b[0;34m,\u001b[0m \u001b[0mstack_depth\u001b[0m\u001b[0;34m)\u001b[0m\u001b[0;34m\u001b[0m\u001b[0m\n\u001b[1;32m   2114\u001b[0m             \u001b[0;32mwith\u001b[0m \u001b[0mself\u001b[0m\u001b[0;34m.\u001b[0m\u001b[0mbuiltin_trap\u001b[0m\u001b[0;34m:\u001b[0m\u001b[0;34m\u001b[0m\u001b[0m\n\u001b[0;32m-> 2115\u001b[0;31m                 \u001b[0mresult\u001b[0m \u001b[0;34m=\u001b[0m \u001b[0mfn\u001b[0m\u001b[0;34m(\u001b[0m\u001b[0mmagic_arg_s\u001b[0m\u001b[0;34m,\u001b[0m \u001b[0mcell\u001b[0m\u001b[0;34m)\u001b[0m\u001b[0;34m\u001b[0m\u001b[0m\n\u001b[0m\u001b[1;32m   2116\u001b[0m             \u001b[0;32mreturn\u001b[0m \u001b[0mresult\u001b[0m\u001b[0;34m\u001b[0m\u001b[0m\n\u001b[1;32m   2117\u001b[0m \u001b[0;34m\u001b[0m\u001b[0m\n",
      "\u001b[0;32m<decorator-gen-59>\u001b[0m in \u001b[0;36mtime\u001b[0;34m(self, line, cell, local_ns)\u001b[0m\n",
      "\u001b[0;32m/home/stas/anaconda2/lib/python2.7/site-packages/IPython/core/magic.pyc\u001b[0m in \u001b[0;36m<lambda>\u001b[0;34m(f, *a, **k)\u001b[0m\n\u001b[1;32m    186\u001b[0m     \u001b[0;31m# but it's overkill for just that one bit of state.\u001b[0m\u001b[0;34m\u001b[0m\u001b[0;34m\u001b[0m\u001b[0m\n\u001b[1;32m    187\u001b[0m     \u001b[0;32mdef\u001b[0m \u001b[0mmagic_deco\u001b[0m\u001b[0;34m(\u001b[0m\u001b[0marg\u001b[0m\u001b[0;34m)\u001b[0m\u001b[0;34m:\u001b[0m\u001b[0;34m\u001b[0m\u001b[0m\n\u001b[0;32m--> 188\u001b[0;31m         \u001b[0mcall\u001b[0m \u001b[0;34m=\u001b[0m \u001b[0;32mlambda\u001b[0m \u001b[0mf\u001b[0m\u001b[0;34m,\u001b[0m \u001b[0;34m*\u001b[0m\u001b[0ma\u001b[0m\u001b[0;34m,\u001b[0m \u001b[0;34m**\u001b[0m\u001b[0mk\u001b[0m\u001b[0;34m:\u001b[0m \u001b[0mf\u001b[0m\u001b[0;34m(\u001b[0m\u001b[0;34m*\u001b[0m\u001b[0ma\u001b[0m\u001b[0;34m,\u001b[0m \u001b[0;34m**\u001b[0m\u001b[0mk\u001b[0m\u001b[0;34m)\u001b[0m\u001b[0;34m\u001b[0m\u001b[0m\n\u001b[0m\u001b[1;32m    189\u001b[0m \u001b[0;34m\u001b[0m\u001b[0m\n\u001b[1;32m    190\u001b[0m         \u001b[0;32mif\u001b[0m \u001b[0mcallable\u001b[0m\u001b[0;34m(\u001b[0m\u001b[0marg\u001b[0m\u001b[0;34m)\u001b[0m\u001b[0;34m:\u001b[0m\u001b[0;34m\u001b[0m\u001b[0m\n",
      "\u001b[0;32m/home/stas/anaconda2/lib/python2.7/site-packages/IPython/core/magics/execution.pyc\u001b[0m in \u001b[0;36mtime\u001b[0;34m(self, line, cell, local_ns)\u001b[0m\n\u001b[1;32m   1178\u001b[0m         \u001b[0;32melse\u001b[0m\u001b[0;34m:\u001b[0m\u001b[0;34m\u001b[0m\u001b[0m\n\u001b[1;32m   1179\u001b[0m             \u001b[0mst\u001b[0m \u001b[0;34m=\u001b[0m \u001b[0mclock2\u001b[0m\u001b[0;34m(\u001b[0m\u001b[0;34m)\u001b[0m\u001b[0;34m\u001b[0m\u001b[0m\n\u001b[0;32m-> 1180\u001b[0;31m             \u001b[0;32mexec\u001b[0m\u001b[0;34m(\u001b[0m\u001b[0mcode\u001b[0m\u001b[0;34m,\u001b[0m \u001b[0mglob\u001b[0m\u001b[0;34m,\u001b[0m \u001b[0mlocal_ns\u001b[0m\u001b[0;34m)\u001b[0m\u001b[0;34m\u001b[0m\u001b[0m\n\u001b[0m\u001b[1;32m   1181\u001b[0m             \u001b[0mend\u001b[0m \u001b[0;34m=\u001b[0m \u001b[0mclock2\u001b[0m\u001b[0;34m(\u001b[0m\u001b[0;34m)\u001b[0m\u001b[0;34m\u001b[0m\u001b[0m\n\u001b[1;32m   1182\u001b[0m             \u001b[0mout\u001b[0m \u001b[0;34m=\u001b[0m \u001b[0mNone\u001b[0m\u001b[0;34m\u001b[0m\u001b[0m\n",
      "\u001b[0;32m<timed exec>\u001b[0m in \u001b[0;36m<module>\u001b[0;34m()\u001b[0m\n",
      "\u001b[0;32m<ipython-input-21-515d414486b1>\u001b[0m in \u001b[0;36mget_tuple_stream_mean\u001b[0;34m(stream, number_of_values)\u001b[0m\n\u001b[1;32m      4\u001b[0m     \u001b[0mresult\u001b[0m \u001b[0;34m=\u001b[0m \u001b[0mnp\u001b[0m\u001b[0;34m.\u001b[0m\u001b[0mzeros\u001b[0m\u001b[0;34m(\u001b[0m\u001b[0mnumber_of_values\u001b[0m\u001b[0;34m,\u001b[0m \u001b[0mdtype\u001b[0m\u001b[0;34m=\u001b[0m\u001b[0;34m'object'\u001b[0m\u001b[0;34m)\u001b[0m\u001b[0;34m\u001b[0m\u001b[0m\n\u001b[1;32m      5\u001b[0m     \u001b[0mcount\u001b[0m \u001b[0;34m=\u001b[0m \u001b[0;36m0.\u001b[0m\u001b[0;34m\u001b[0m\u001b[0m\n\u001b[0;32m----> 6\u001b[0;31m     \u001b[0;32mfor\u001b[0m \u001b[0mstreamed_tuple\u001b[0m \u001b[0;32min\u001b[0m \u001b[0mstream\u001b[0m\u001b[0;34m:\u001b[0m\u001b[0;34m\u001b[0m\u001b[0m\n\u001b[0m\u001b[1;32m      7\u001b[0m         \u001b[0mresult\u001b[0m \u001b[0;34m+=\u001b[0m \u001b[0mstreamed_tuple\u001b[0m\u001b[0;34m\u001b[0m\u001b[0m\n\u001b[1;32m      8\u001b[0m         \u001b[0mcount\u001b[0m \u001b[0;34m+=\u001b[0m \u001b[0;36m1\u001b[0m\u001b[0;34m\u001b[0m\u001b[0m\n",
      "\u001b[0;32m<timed exec>\u001b[0m in \u001b[0;36mexample\u001b[0;34m(stream)\u001b[0m\n",
      "\u001b[0;32m<ipython-input-20-fda0ee493094>\u001b[0m in \u001b[0;36measy_stream\u001b[0;34m()\u001b[0m\n\u001b[1;32m     19\u001b[0m \u001b[0;34m\u001b[0m\u001b[0m\n\u001b[1;32m     20\u001b[0m \u001b[0;32mdef\u001b[0m \u001b[0measy_stream\u001b[0m\u001b[0;34m(\u001b[0m\u001b[0;34m)\u001b[0m\u001b[0;34m:\u001b[0m\u001b[0;34m\u001b[0m\u001b[0m\n\u001b[0;32m---> 21\u001b[0;31m     \u001b[0;32mfor\u001b[0m \u001b[0mrecord\u001b[0m \u001b[0;32min\u001b[0m \u001b[0mdata_stream\u001b[0m\u001b[0;34m(\u001b[0m\u001b[0;34m)\u001b[0m\u001b[0;34m:\u001b[0m\u001b[0;34m\u001b[0m\u001b[0m\n\u001b[0m\u001b[1;32m     22\u001b[0m         \u001b[0;32myield\u001b[0m \u001b[0mrecord\u001b[0m\u001b[0;34m.\u001b[0m\u001b[0measy\u001b[0m\u001b[0;34m\u001b[0m\u001b[0m\n\u001b[1;32m     23\u001b[0m \u001b[0;34m\u001b[0m\u001b[0m\n",
      "\u001b[0;32m<ipython-input-20-fda0ee493094>\u001b[0m in \u001b[0;36mdata_stream\u001b[0;34m()\u001b[0m\n\u001b[1;32m     10\u001b[0m         \u001b[0measy\u001b[0m \u001b[0;34m+=\u001b[0m \u001b[0mrandom_generator\u001b[0m\u001b[0;34m.\u001b[0m\u001b[0mrandint\u001b[0m\u001b[0;34m(\u001b[0m\u001b[0;36m0\u001b[0m\u001b[0;34m,\u001b[0m \u001b[0;36m2\u001b[0m\u001b[0;34m)\u001b[0m\u001b[0;34m\u001b[0m\u001b[0m\n\u001b[1;32m     11\u001b[0m         \u001b[0mmedium\u001b[0m \u001b[0;34m=\u001b[0m \u001b[0mrandom_generator\u001b[0m\u001b[0;34m.\u001b[0m\u001b[0mrandint\u001b[0m\u001b[0;34m(\u001b[0m\u001b[0;36m0\u001b[0m\u001b[0;34m,\u001b[0m \u001b[0;36m256\u001b[0m \u001b[0;34m-\u001b[0m \u001b[0;36m1\u001b[0m\u001b[0;34m)\u001b[0m\u001b[0;34m\u001b[0m\u001b[0m\n\u001b[0;32m---> 12\u001b[0;31m         \u001b[0mnightmare\u001b[0m \u001b[0;34m=\u001b[0m \u001b[0mrandom_generator\u001b[0m\u001b[0;34m.\u001b[0m\u001b[0mrandint\u001b[0m\u001b[0;34m(\u001b[0m\u001b[0;36m0\u001b[0m\u001b[0;34m,\u001b[0m \u001b[0;36m1000000000\u001b[0m \u001b[0;34m-\u001b[0m \u001b[0;36m1\u001b[0m\u001b[0;34m)\u001b[0m\u001b[0;34m\u001b[0m\u001b[0m\n\u001b[0m\u001b[1;32m     13\u001b[0m \u001b[0;34m\u001b[0m\u001b[0m\n\u001b[1;32m     14\u001b[0m         yield Record(\n",
      "\u001b[0;31mKeyboardInterrupt\u001b[0m: "
     ]
    }
   ],
   "source": [
    "%%time\n",
    "def example(stream):\n",
    "    for value in stream:\n",
    "        yield (value, value + 10)\n",
    "        \n",
    "print(get_tuple_stream_mean(example(easy_stream()), 2))"
   ]
  },
  {
   "cell_type": "code",
   "execution_count": null,
   "metadata": {
    "collapsed": true
   },
   "outputs": [],
   "source": []
  }
 ],
 "metadata": {
  "kernelspec": {
   "display_name": "Python 2",
   "language": "python",
   "name": "python2"
  },
  "language_info": {
   "codemirror_mode": {
    "name": "ipython",
    "version": 2
   },
   "file_extension": ".py",
   "mimetype": "text/x-python",
   "name": "python",
   "nbconvert_exporter": "python",
   "pygments_lexer": "ipython2",
   "version": "2.7.14"
  }
 },
 "nbformat": 4,
 "nbformat_minor": 2
}
